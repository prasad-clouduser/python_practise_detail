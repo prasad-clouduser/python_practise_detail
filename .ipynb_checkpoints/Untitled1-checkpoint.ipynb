{
 "cells": [
  {
   "cell_type": "code",
   "execution_count": null,
   "metadata": {},
   "outputs": [],
   "source": [
    "previousProcessesRunning = ['tnslsnr LSNR_berscn21:Running', 'tnslsnr test_lsnr:Down:1']\n",
    "print(previousProcessesRunning)"
   ]
  },
  {
   "cell_type": "code",
   "execution_count": null,
   "metadata": {},
   "outputs": [],
   "source": []
  },
  {
   "cell_type": "code",
   "execution_count": null,
   "metadata": {},
   "outputs": [],
   "source": []
  },
  {
   "cell_type": "code",
   "execution_count": null,
   "metadata": {},
   "outputs": [],
   "source": []
  },
  {
   "cell_type": "code",
   "execution_count": null,
   "metadata": {},
   "outputs": [],
   "source": []
  },
  {
   "cell_type": "code",
   "execution_count": null,
   "metadata": {},
   "outputs": [],
   "source": [
    "processesRunning = ['tnslsnr oraprtl_lsnr:Running', 'tnslsnr test_lsnr:Down:15', 'tnslsnr  lsnr_oracle:Down:14', 'tnslsnr  lsnr_oracle:Down:15', 'tnslsnr test_lsnr:Down:14']\n",
    "print(processesRunning)"
   ]
  },
  {
   "cell_type": "code",
   "execution_count": null,
   "metadata": {},
   "outputs": [],
   "source": [
    "a = ['tnslsnr oraprtl_lsnr:Running', 'tnslsnr test_lsnr:Down:15', 'tnslsnr  lsnr_oracle:Down:14', 'tnslsnr  lsnr_oracle:Down:15', 'tnslsnr test_lsnr:Down:14']\n",
    "b = ['tnslsnr test_lsnr:Down:15', 'tnslsnr  lsnr_oracle:Down:15']\n",
    "\n",
    "for i in b[:]:\n",
    "    if i in b:\n",
    "        a.remove(i)\n",
    "        \n",
    "print(a)"
   ]
  },
  {
   "cell_type": "code",
   "execution_count": null,
   "metadata": {},
   "outputs": [],
   "source": []
  },
  {
   "cell_type": "code",
   "execution_count": 11,
   "metadata": {},
   "outputs": [
    {
     "data": {
      "text/plain": [
       "False"
      ]
     },
     "execution_count": 11,
     "metadata": {},
     "output_type": "execute_result"
    }
   ],
   "source": [
    "'Physical Disk,Network Name,IP Address,SQL Server,MSDTC'.find('SQL Server') != -1 and  'SQL Server Availability Group'.find('SQL Server Availability Group') == -1\n"
   ]
  },
  {
   "cell_type": "code",
   "execution_count": null,
   "metadata": {},
   "outputs": [],
   "source": []
  },
  {
   "cell_type": "code",
   "execution_count": null,
   "metadata": {},
   "outputs": [],
   "source": []
  },
  {
   "cell_type": "code",
   "execution_count": null,
   "metadata": {},
   "outputs": [],
   "source": []
  },
  {
   "cell_type": "code",
   "execution_count": null,
   "metadata": {},
   "outputs": [],
   "source": []
  }
 ],
 "metadata": {
  "kernelspec": {
   "display_name": "Python 3",
   "language": "python",
   "name": "python3"
  },
  "language_info": {
   "codemirror_mode": {
    "name": "ipython",
    "version": 3
   },
   "file_extension": ".py",
   "mimetype": "text/x-python",
   "name": "python",
   "nbconvert_exporter": "python",
   "pygments_lexer": "ipython3",
   "version": "3.7.6"
  }
 },
 "nbformat": 4,
 "nbformat_minor": 4
}
