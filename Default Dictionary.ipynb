{
 "cells": [
  {
   "cell_type": "code",
   "execution_count": 6,
   "metadata": {},
   "outputs": [
    {
     "name": "stdout",
     "output_type": "stream",
     "text": [
      "defaultdict(<function <lambda> at 0x00000298FC417168>, {'a': 1, 'b': 2})\n",
      "Not Present\n",
      "Not Present\n",
      "Not Present\n"
     ]
    }
   ],
   "source": [
    "from collections import defaultdict \n",
    "  \n",
    "      \n",
    "# Defining the dict \n",
    "d = defaultdict(lambda: \"Not Present\") \n",
    "d[\"a\"] = 1\n",
    "d[\"b\"] = 2\n",
    "d\n",
    "# Provides the default value  \n",
    "# for the key \n",
    "print(d)\n",
    "print(d.__missing__('a')) \n",
    "print(d.__missing__('d')) \n",
    "print(d.__missing__('b'))"
   ]
  },
  {
   "cell_type": "code",
   "execution_count": null,
   "metadata": {},
   "outputs": [],
   "source": [
    "\n",
    "\n"
   ]
  }
 ],
 "metadata": {
  "kernelspec": {
   "display_name": "Python 3",
   "language": "python",
   "name": "python3"
  },
  "language_info": {
   "codemirror_mode": {
    "name": "ipython",
    "version": 3
   },
   "file_extension": ".py",
   "mimetype": "text/x-python",
   "name": "python",
   "nbconvert_exporter": "python",
   "pygments_lexer": "ipython3",
   "version": "3.7.6"
  }
 },
 "nbformat": 4,
 "nbformat_minor": 4
}
